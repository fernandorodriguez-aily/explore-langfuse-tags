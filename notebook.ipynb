{
 "cells": [
  {
   "metadata": {},
   "cell_type": "markdown",
   "source": [
    "Nos conectamos a la DB de Langfuse y hacemos queries sobre la tabla de trazas\n",
    "\n",
    "Podemos descargarnos los datos totales de trazas pero solo con las columnas que nos importan. \n",
    "\n",
    "Para poder estimar cuales son los tags mas caros y demas informacion relevante necesitamos el script que habia hecho hace unos meses de estimación de costes. En este caso no lo voy a hacer para un tenant sino para un tag o serie de tags.\n",
    "\n",
    "Preguntas:\n",
    "\n",
    "* Cuantas trazas hay\n",
    "* Cuantas trazas de los ultimos X dias que tienen la palabra prod o dev\n",
    "* Cuanto nos gastamos en prod\n",
    "* Cuanto nos gastamos en dev\n",
    "* Cuanto nos gastamos en el resto de trazas\n",
    "* Rankear las trazas no prod o dev\n",
    "\n",
    "Cuan importante es este tema?\n",
    "Queremos automatizarlo? En tal caso, como queremos hacerlo?\n",
    "Queremos que le pase la tarea a Nekane?\n",
    "\n",
    "----\n",
    "\n",
    "\n",
    "Ventajas de hacer con script:\n",
    "\n",
    "* Si tenemos claro lo que queremos ver, al tenerlo de forma programatica pues se ejecuta automaticamente y podemos \"construir\" sobre ello\n",
    "\n",
    "Desventajas:\n",
    "* Lleva tiempo de programar\n",
    "* Va a cambiar lo que queremos ver?\n",
    "* Vamos a dejar de usar langfuse?\n",
    "\n",
    "\n",
    "-----\n",
    "\n",
    "TODO: Hacer un notebook con algunas de estas preguntas resueltas, pedir un meeting con Adma y Juan mañana\n",
    "\n",
    "\n"
   ],
   "id": "dc8267949e5d8434"
  },
  {
   "metadata": {
    "ExecuteTime": {
     "end_time": "2024-07-15T17:03:05.411025Z",
     "start_time": "2024-07-15T17:03:05.408106Z"
    }
   },
   "cell_type": "code",
   "source": [
    "import pandas as pd\n",
    "from datetime import date\n",
    "\n",
    "from aily_ai_brain.common.secrets_manager import get_aws_secret_key\n",
    "from sqlalchemy import create_engine, text\n",
    "from sqlalchemy.orm import Session, sessionmaker\n",
    "from aily_py_commons.aily_logging import aily_logging as logging\n",
    "from aily_py_commons.io.env_vars import (\n",
    "    INFRASTRUCTURE_PROD,\n",
    "    AilySettings,\n",
    ")"
   ],
   "id": "b96a114d1e243869",
   "outputs": [],
   "execution_count": 8
  },
  {
   "metadata": {},
   "cell_type": "markdown",
   "source": "## Connect to DB",
   "id": "e9292fd94c09d6e0"
  },
  {
   "cell_type": "code",
   "id": "initial_id",
   "metadata": {
    "collapsed": true,
    "ExecuteTime": {
     "end_time": "2024-07-15T16:57:07.130006Z",
     "start_time": "2024-07-15T16:57:07.126599Z"
    }
   },
   "source": [
    "def create_db_session_standard(tenant_name: str, environment: str):\n",
    "    \"\"\"\n",
    "    Retrieves the database info for the given tenant using AWS credentials,\n",
    "    then, creates a new database session for it.\n",
    "    \"\"\"\n",
    "    secret_name = f\"aily/{tenant_name}/{environment}/rds-langfuse/dbo\"\n",
    "    creds = {k: get_aws_secret_key(secret_name, k) for k in [\"username\", \"password\", \"host\", \"port\", \"dbName\"]}\n",
    "\n",
    "    dialect_driver = \"postgresql+psycopg2://\"\n",
    "    engine_url = (\n",
    "        f\"{dialect_driver}{creds['username']}:{creds['password']}@{creds['host']}:{creds['port']}/{creds['dbName']}\"\n",
    "    )\n",
    "    sql_engine = create_engine(engine_url)\n",
    "    sql_session = sessionmaker(bind=sql_engine)\n",
    "    return sql_session"
   ],
   "outputs": [],
   "execution_count": 4
  },
  {
   "metadata": {
    "ExecuteTime": {
     "end_time": "2024-07-15T16:57:07.155021Z",
     "start_time": "2024-07-15T16:57:07.133161Z"
    }
   },
   "cell_type": "code",
   "source": "AilySettings(INFRASTRUCTURE_PROD)",
   "id": "3f3f03f843d06fd8",
   "outputs": [
    {
     "name": "stderr",
     "output_type": "stream",
     "text": [
      "\u001B[33m2024-07-15 18:57:07 CEST+0200 - WARNING - aily-logging:\u001B[0m \u001B[37mYou are using a dictionary to configure AilySettings. This is not recommended.Please use .env file to set your env variables in your environment.\u001B[0m\n"
     ]
    },
    {
     "data": {
      "text/plain": [
       "AilySettings(AILY_PREFIX='aily', AILY_ENV='prod', AILY_TENANT='infrastructure', AWS_REGION='eu-central-1', AWS_PROFILE='aws-infrastructure')"
      ]
     },
     "execution_count": 5,
     "metadata": {},
     "output_type": "execute_result"
    }
   ],
   "execution_count": 5
  },
  {
   "metadata": {
    "ExecuteTime": {
     "end_time": "2024-07-15T16:59:21.638031Z",
     "start_time": "2024-07-15T16:59:16.443645Z"
    }
   },
   "cell_type": "code",
   "source": [
    "tenant_name = \"infrastructure\"\n",
    "environment = \"prod\"\n",
    "tenant_session = create_db_session_standard(tenant_name, environment)"
   ],
   "id": "2ab791954f6c18a3",
   "outputs": [
    {
     "name": "stderr",
     "output_type": "stream",
     "text": [
      "/var/folders/47/gybx85kd6f147h3rp8wgdz9w0000gn/T/ipykernel_95149/3766700193.py:7: DeprecationWarning: Please use `aily_data_aws.aws.secrets.get_secret()`\n",
      "  creds = {k: get_aws_secret_key(secret_name, k) for k in [\"username\", \"password\", \"host\", \"port\", \"dbName\"]}\n"
     ]
    }
   ],
   "execution_count": 6
  },
  {
   "metadata": {},
   "cell_type": "markdown",
   "source": "## Download data",
   "id": "9df9a82bbbbeda27"
  },
  {
   "metadata": {
    "ExecuteTime": {
     "end_time": "2024-07-15T17:03:20.657250Z",
     "start_time": "2024-07-15T17:03:20.649661Z"
    }
   },
   "cell_type": "code",
   "source": [
    "def get_trace_sessions(\n",
    "    session: Session, columns: list[str] = [], ids: list[int] = [], from_date: date = None\n",
    ") -> pd.DataFrame:\n",
    "    \"\"\"\n",
    "    Return all trace sessions\n",
    "    \"\"\"\n",
    "    if not columns:\n",
    "        selected_columns = \"*\"\n",
    "    else:\n",
    "        selected_columns = \", \".join(f'\"{col}\"' for col in columns)\n",
    "\n",
    "    conditions = []\n",
    "    params = {}\n",
    "\n",
    "    if ids:\n",
    "        conditions.append(\"id = ANY (ARRAY[:ids])\")\n",
    "        params[\"ids\"] = ids\n",
    "\n",
    "    if from_date:\n",
    "        conditions.append(\"created_at >= :from_date\")\n",
    "        params[\"from_date\"] = from_date\n",
    "\n",
    "    if conditions:\n",
    "        query_where = \" WHERE \" + \" AND \".join(conditions)\n",
    "    else:\n",
    "        query_where = \"\"\n",
    "\n",
    "    query = text(\n",
    "        f\"\"\"\n",
    "            SELECT {selected_columns}\n",
    "            FROM public.trace_sessions\n",
    "            {query_where}\n",
    "            \"\"\"\n",
    "    )\n",
    "\n",
    "    result = session.execute(query, params=params)\n",
    "\n",
    "    df = pd.DataFrame(result.fetchall(), columns=result.keys())\n",
    "    return df"
   ],
   "id": "bc2c206a91d2bf09",
   "outputs": [],
   "execution_count": 9
  },
  {
   "metadata": {
    "ExecuteTime": {
     "end_time": "2024-07-15T17:03:44.459282Z",
     "start_time": "2024-07-15T17:03:42.320754Z"
    }
   },
   "cell_type": "code",
   "source": [
    "with tenant_session() as session:\n",
    "    df_trace_session_ids = get_trace_sessions(session, columns=[\"id\"])"
   ],
   "id": "f3345a01b43e68b4",
   "outputs": [],
   "execution_count": 11
  },
  {
   "metadata": {
    "ExecuteTime": {
     "end_time": "2024-07-15T17:03:49.580584Z",
     "start_time": "2024-07-15T17:03:49.560068Z"
    }
   },
   "cell_type": "code",
   "source": "df_trace_session_ids",
   "id": "9a1f742b4f83e3f6",
   "outputs": [
    {
     "data": {
      "text/plain": [
       "                                       id\n",
       "0                  KYdlzJ3IWU8gagGUy6g3kg\n",
       "1                  CMW-GNvmRQVIDrDpro-oDQ\n",
       "2                  W7NqR4ZMwh1iIK4tZwMMfA\n",
       "3                  _rGcF_UVvVnNvL-J1aOoHQ\n",
       "4                  uEn4wNaP7BYs8MXuJHklUw\n",
       "...                                   ...\n",
       "46024  coreproduct-pQh_DXXvGGysR5lW-n1XmA\n",
       "46025  coreproduct-M1rAegkzFxnVPbk2H0t_vw\n",
       "46026  coreproduct-6IoMpUMAGhcF_MJVsylhug\n",
       "46027  coreproduct-mqH07991PmdrAbYGrgYT5g\n",
       "46028  coreproduct-eYM8ZwrYt3NmYfYHTqfEoQ\n",
       "\n",
       "[46029 rows x 1 columns]"
      ],
      "text/html": [
       "<div>\n",
       "<style scoped>\n",
       "    .dataframe tbody tr th:only-of-type {\n",
       "        vertical-align: middle;\n",
       "    }\n",
       "\n",
       "    .dataframe tbody tr th {\n",
       "        vertical-align: top;\n",
       "    }\n",
       "\n",
       "    .dataframe thead th {\n",
       "        text-align: right;\n",
       "    }\n",
       "</style>\n",
       "<table border=\"1\" class=\"dataframe\">\n",
       "  <thead>\n",
       "    <tr style=\"text-align: right;\">\n",
       "      <th></th>\n",
       "      <th>id</th>\n",
       "    </tr>\n",
       "  </thead>\n",
       "  <tbody>\n",
       "    <tr>\n",
       "      <th>0</th>\n",
       "      <td>KYdlzJ3IWU8gagGUy6g3kg</td>\n",
       "    </tr>\n",
       "    <tr>\n",
       "      <th>1</th>\n",
       "      <td>CMW-GNvmRQVIDrDpro-oDQ</td>\n",
       "    </tr>\n",
       "    <tr>\n",
       "      <th>2</th>\n",
       "      <td>W7NqR4ZMwh1iIK4tZwMMfA</td>\n",
       "    </tr>\n",
       "    <tr>\n",
       "      <th>3</th>\n",
       "      <td>_rGcF_UVvVnNvL-J1aOoHQ</td>\n",
       "    </tr>\n",
       "    <tr>\n",
       "      <th>4</th>\n",
       "      <td>uEn4wNaP7BYs8MXuJHklUw</td>\n",
       "    </tr>\n",
       "    <tr>\n",
       "      <th>...</th>\n",
       "      <td>...</td>\n",
       "    </tr>\n",
       "    <tr>\n",
       "      <th>46024</th>\n",
       "      <td>coreproduct-pQh_DXXvGGysR5lW-n1XmA</td>\n",
       "    </tr>\n",
       "    <tr>\n",
       "      <th>46025</th>\n",
       "      <td>coreproduct-M1rAegkzFxnVPbk2H0t_vw</td>\n",
       "    </tr>\n",
       "    <tr>\n",
       "      <th>46026</th>\n",
       "      <td>coreproduct-6IoMpUMAGhcF_MJVsylhug</td>\n",
       "    </tr>\n",
       "    <tr>\n",
       "      <th>46027</th>\n",
       "      <td>coreproduct-mqH07991PmdrAbYGrgYT5g</td>\n",
       "    </tr>\n",
       "    <tr>\n",
       "      <th>46028</th>\n",
       "      <td>coreproduct-eYM8ZwrYt3NmYfYHTqfEoQ</td>\n",
       "    </tr>\n",
       "  </tbody>\n",
       "</table>\n",
       "<p>46029 rows × 1 columns</p>\n",
       "</div>"
      ]
     },
     "execution_count": 12,
     "metadata": {},
     "output_type": "execute_result"
    }
   ],
   "execution_count": 12
  }
 ],
 "metadata": {
  "kernelspec": {
   "display_name": "Python 3",
   "language": "python",
   "name": "python3"
  },
  "language_info": {
   "codemirror_mode": {
    "name": "ipython",
    "version": 2
   },
   "file_extension": ".py",
   "mimetype": "text/x-python",
   "name": "python",
   "nbconvert_exporter": "python",
   "pygments_lexer": "ipython2",
   "version": "2.7.6"
  }
 },
 "nbformat": 4,
 "nbformat_minor": 5
}
